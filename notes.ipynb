{
 "cells": [
  {
   "cell_type": "markdown",
   "id": "56052ac7",
   "metadata": {},
   "source": [
    "# My Notebook\n",
    "\n",
    "## Introduction\n",
    "- Name: Rifqi Munif Imanullah"
   ]
  },
  {
   "cell_type": "code",
   "execution_count": 1,
   "id": "9d87b292",
   "metadata": {},
   "outputs": [
    {
     "name": "stdout",
     "output_type": "stream",
     "text": [
      "This code will be executed.\n"
     ]
    }
   ],
   "source": [
    "print(\"This code will be executed.\")"
   ]
  }
 ],
 "metadata": {
  "kernelspec": {
   "display_name": "Retry28April",
   "language": "python",
   "name": "python3"
  },
  "language_info": {
   "codemirror_mode": {
    "name": "ipython",
    "version": 3
   },
   "file_extension": ".py",
   "mimetype": "text/x-python",
   "name": "python",
   "nbconvert_exporter": "python",
   "pygments_lexer": "ipython3",
   "version": "3.13.2"
  }
 },
 "nbformat": 4,
 "nbformat_minor": 5
}
